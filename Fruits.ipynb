{
  "nbformat": 4,
  "nbformat_minor": 0,
  "metadata": {
    "colab": {
      "name": "Fruits.ipynb",
      "provenance": [],
      "collapsed_sections": [],
      "authorship_tag": "ABX9TyPufCEUnY+LbsehH4yccJmu",
      "include_colab_link": true
    },
    "kernelspec": {
      "name": "python3",
      "display_name": "Python 3"
    },
    "language_info": {
      "name": "python"
    },
    "accelerator": "GPU",
    "gpuClass": "standard"
  },
  "cells": [
    {
      "cell_type": "markdown",
      "metadata": {
        "id": "view-in-github",
        "colab_type": "text"
      },
      "source": [
        "<a href=\"https://colab.research.google.com/github/AlephEleven/Fruit-Checker/blob/main/Fruits.ipynb\" target=\"_parent\"><img src=\"https://colab.research.google.com/assets/colab-badge.svg\" alt=\"Open In Colab\"/></a>"
      ]
    },
    {
      "cell_type": "markdown",
      "source": [
        "## **Fruit Recognition**\n",
        "\n",
        "#### CNN for detecting images of 33 different fruits and vegetables, written in PyTorch.\n",
        "\n",
        "Tools:\n",
        "- Kaggle API\n",
        "- Colab Shell\n",
        "- PyTorch (torchvision, Dataset, nn)\n",
        "- Image Displaying via matplotlib and skimage\n",
        "- Google Colab (GPU usage, notebook forms, saving models to drive)\n",
        "\n",
        "Sections:\n",
        "\n",
        "\n",
        "1.   Data Analysis\n",
        "2.   Dataset\n",
        "3.   CNN Model\n",
        "4.   Training\n",
        "5.   Results\n",
        "6.   Testing on New Data\n",
        "7.   Conclusion\n",
        "\n",
        "\n"
      ],
      "metadata": {
        "id": "lZlU59t9OxgV"
      }
    },
    {
      "cell_type": "markdown",
      "source": [
        "# **Section 1**\n",
        "## Data Analysis"
      ],
      "metadata": {
        "id": "-RqUHHBxRZPa"
      }
    },
    {
      "cell_type": "code",
      "execution_count": 1,
      "metadata": {
        "colab": {
          "resources": {
            "http://localhost:8080/nbextensions/google.colab/files.js": {
              "data": "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",
              "ok": true,
              "headers": [
                [
                  "content-type",
                  "application/javascript"
                ]
              ],
              "status": 200,
              "status_text": ""
            }
          },
          "base_uri": "https://localhost:8080/",
          "height": 73
        },
        "id": "m0M_JZgrK2uE",
        "outputId": "5eae9681-df6d-4aae-9f1b-76250ab16cc1"
      },
      "outputs": [
        {
          "output_type": "display_data",
          "data": {
            "text/plain": [
              "<IPython.core.display.HTML object>"
            ],
            "text/html": [
              "\n",
              "     <input type=\"file\" id=\"files-0d648def-2398-40fe-aaf9-e8cb0198e735\" name=\"files[]\" multiple disabled\n",
              "        style=\"border:none\" />\n",
              "     <output id=\"result-0d648def-2398-40fe-aaf9-e8cb0198e735\">\n",
              "      Upload widget is only available when the cell has been executed in the\n",
              "      current browser session. Please rerun this cell to enable.\n",
              "      </output>\n",
              "      <script src=\"/nbextensions/google.colab/files.js\"></script> "
            ]
          },
          "metadata": {}
        },
        {
          "output_type": "stream",
          "name": "stdout",
          "text": [
            "Saving kaggle.json to kaggle.json\n"
          ]
        }
      ],
      "source": [
        "#@title Load Kaggle API (Enter kaggle API key) { display-mode: \"form\" }\n",
        "!pip install -q kaggle\n",
        "\n",
        "from google.colab import files\n",
        "\n",
        "files.upload()\n",
        "!mkdir -p ~/.kaggle\n",
        "!cp kaggle.json ~/.kaggle/\n",
        "!chmod 600 /root/.kaggle/kaggle.json"
      ]
    },
    {
      "cell_type": "code",
      "source": [
        "#@title Download Fruits Dataset { vertical-output: false }\n",
        "!kaggle datasets download sshikamaru/fruit-recognition\n",
        "!unzip fruit-recognition.zip -d fruit-dataset"
      ],
      "metadata": {
        "colab": {
          "base_uri": "https://localhost:8080/"
        },
        "id": "ZPpiyL9ZLIDo",
        "outputId": "2715d332-e64f-462f-8d71-09e411f16e6e",
        "cellView": "form"
      },
      "execution_count": 154,
      "outputs": [
        {
          "output_type": "stream",
          "name": "stdout",
          "text": [
            "fruit-recognition.zip: Skipping, found more recently modified local copy (use --force to force download)\n",
            "Archive:  fruit-recognition.zip\n",
            "replace fruit-dataset/sampleSubmission.csv? [y]es, [n]o, [A]ll, [N]one, [r]ename: "
          ]
        }
      ]
    },
    {
      "cell_type": "code",
      "source": [
        "#total test files\n",
        "!ls -1 fruit-dataset/test/test | wc -l\n",
        "\n",
        "#total fruit types\n",
        "!ls -1 fruit-dataset/train/train | wc -l\n",
        "\n",
        "#total train files\n",
        "!ls -lR fruit-dataset/train/train | grep \"^-\" | wc -l"
      ],
      "metadata": {
        "colab": {
          "base_uri": "https://localhost:8080/"
        },
        "id": "nEoeLPAJL7Yu",
        "outputId": "187d1198-482d-4222-807f-16da01142dfb"
      },
      "execution_count": 3,
      "outputs": [
        {
          "output_type": "stream",
          "name": "stdout",
          "text": [
            "5641\n",
            "33\n",
            "16854\n"
          ]
        }
      ]
    },
    {
      "cell_type": "code",
      "source": [
        "!ls fruit-dataset/train/train"
      ],
      "metadata": {
        "colab": {
          "base_uri": "https://localhost:8080/"
        },
        "id": "kY7DqEvD0saC",
        "outputId": "2d7c1455-de77-4c7f-8d7c-a58f76315b36"
      },
      "execution_count": 4,
      "outputs": [
        {
          "output_type": "stream",
          "name": "stdout",
          "text": [
            "'Apple Braeburn'       Clementine       Orange\t\t Pomegranate\n",
            "'Apple Granny Smith'   Corn\t        Papaya\t\t'Potato Red'\n",
            " Apricot\t      'Cucumber Ripe'  'Passion Fruit'\t Raspberry\n",
            " Avocado\t      'Grape Blue'      Peach\t\t Strawberry\n",
            " Banana\t\t       Kiwi\t        Pear\t\t Tomato\n",
            " Blueberry\t       Lemon\t       'Pepper Green'\t Watermelon\n",
            "'Cactus fruit'\t       Limes\t       'Pepper Red'\n",
            " Cantaloupe\t       Mango\t        Pineapple\n",
            " Cherry\t\t      'Onion White'     Plum\n"
          ]
        }
      ]
    },
    {
      "cell_type": "code",
      "source": [
        "#@title Combine Dataset to Single Folder\n",
        "sh = \"\"\"\n",
        "#!/bin/bash\n",
        "\n",
        "# change to the parent directory\n",
        "cd fruit-dataset/train/train\n",
        "\n",
        "for d in */ ; do for f in \"$d\"/* ; do mv \"$f\" . ; done ; done\n",
        "\"\"\"\n",
        "with open('script.sh', 'w') as file:\n",
        "  file.write(sh)\n",
        "\n",
        "!bash script.sh"
      ],
      "metadata": {
        "id": "GmYONR830cky",
        "cellView": "form"
      },
      "execution_count": 5,
      "outputs": []
    },
    {
      "cell_type": "code",
      "source": [
        "#test data access\n",
        "\n",
        "import numpy as np\n",
        "from skimage import io\n",
        "\n",
        "def get_train_fruit(name, num=1):\n",
        "  return io.imread(f\"fruit-dataset/train/train/{name}_{num}.jpg\")\n",
        "\n",
        "def get_test_fruit(num=1):\n",
        "  return io.imread(f\"fruit-dataset/test/test/{str(num).zfill(4)}.jpg\")\n",
        "\n",
        "im_cv = get_train_fruit(\"Peach\",2)\n",
        "\n",
        "io.imshow(im_cv)"
      ],
      "metadata": {
        "colab": {
          "base_uri": "https://localhost:8080/",
          "height": 314
        },
        "id": "TkJXe0dTN2-l",
        "outputId": "a0e848bd-2b5a-425e-9355-59d4c7a724ec"
      },
      "execution_count": 6,
      "outputs": [
        {
          "output_type": "execute_result",
          "data": {
            "text/plain": [
              "<matplotlib.image.AxesImage at 0x7fcb08628190>"
            ]
          },
          "metadata": {},
          "execution_count": 6
        },
        {
          "output_type": "display_data",
          "data": {
            "text/plain": [
              "<Figure size 432x288 with 1 Axes>"
            ],
            "image/png": "[encoded data removed]"
          },
          "metadata": {
            "needs_background": "light"
          }
        }
      ]
    },
    {
      "cell_type": "code",
      "source": [
        "#@title Import Libraries\n",
        "import matplotlib.pyplot as plt\n",
        "import numpy as np\n",
        "import torch\n",
        "import torch.nn as nn\n",
        "import torch.optim as optim\n",
        "from torch.utils.data import Dataset\n",
        "import torchvision.transforms as transforms\n",
        "\n",
        "import datetime\n",
        "import pandas as pd\n",
        "import seaborn as sns\n",
        "import subprocess\n",
        "import os\n",
        "import re"
      ],
      "metadata": {
        "id": "8Tp6GBW5tCFt",
        "cellView": "form"
      },
      "execution_count": 7,
      "outputs": []
    },
    {
      "cell_type": "markdown",
      "source": [
        "# **Section 2**\n",
        "## Dataset"
      ],
      "metadata": {
        "id": "cVQP7qTERuDR"
      }
    },
    {
      "cell_type": "code",
      "source": [
        "#Process Dataset\n",
        "\n",
        "class FruitsDataset(Dataset):\n",
        "  def __init__(self, file_path, transforms=None):\n",
        "    self.file_path = file_path\n",
        "    self.transforms = transforms\n",
        "\n",
        "    contents = os.listdir(self.file_path)\n",
        "\n",
        "    #filter jpgs\n",
        "    def jpg_filter(string, eq=True):\n",
        "      if len(string) < 5:\n",
        "        return False or not eq\n",
        "      \n",
        "      if eq:\n",
        "        return string[-4:] == \".jpg\"\n",
        "      else:\n",
        "        return string[-4:] != \".jpg\"\n",
        "\n",
        "    #get all images\n",
        "    self.files = list(filter(jpg_filter, contents))\n",
        "    \n",
        "    #get all labels\n",
        "    self.label_names = sorted(list(filter(lambda x: jpg_filter(x, False), contents)))\n",
        "  \n",
        "  def __len__(self):\n",
        "    return len(self.files)\n",
        "\n",
        "  def __getitem__(self, index):\n",
        "    img = io.imread(f\"{self.file_path}/{self.files[index]}\")\n",
        "\n",
        "    #extract fruit name: fruit_num.jpg\n",
        "    label = self.files[index].split(\"_\")[0]\n",
        "    label = torch.tensor(self.label_names.index(label))\n",
        "\n",
        "    if self.transforms:\n",
        "      img = self.transforms(img)\n",
        "\n",
        "\n",
        "    return (img, label)"
      ],
      "metadata": {
        "id": "gh8Ur9UXRgh0"
      },
      "execution_count": 8,
      "outputs": []
    },
    {
      "cell_type": "code",
      "source": [
        "fruits_dataset = FruitsDataset(\"fruit-dataset/train/train\", transforms=\n",
        "                                                transforms.Compose([\n",
        "                                                                    transforms.ToTensor(),\n",
        "                                                                    transforms.Resize((64, 64)),\n",
        "                                                                    transforms.Normalize((0.5, 0.5, 0.5), (0.5, 0.5, 0.5))\n",
        "                                                ]))"
      ],
      "metadata": {
        "id": "myiFuT-RvrVG"
      },
      "execution_count": 122,
      "outputs": []
    },
    {
      "cell_type": "code",
      "source": [
        "split = int(len(fruits_dataset)*.8)\n",
        "fruits_train, fruits_test = torch.utils.data.random_split(fruits_dataset, [split, len(fruits_dataset)-split])"
      ],
      "metadata": {
        "id": "RaLvamyz-_4F"
      },
      "execution_count": 92,
      "outputs": []
    },
    {
      "cell_type": "code",
      "source": [
        "len(fruits_train), len(fruits_test)"
      ],
      "metadata": {
        "colab": {
          "base_uri": "https://localhost:8080/"
        },
        "id": "DBZvM5DFBn78",
        "outputId": "d7348e4a-fbf4-4ddd-c440-bc971e30fb88"
      },
      "execution_count": 93,
      "outputs": [
        {
          "output_type": "execute_result",
          "data": {
            "text/plain": [
              "(13483, 3371)"
            ]
          },
          "metadata": {},
          "execution_count": 93
        }
      ]
    },
    {
      "cell_type": "code",
      "source": [
        "#image size\n",
        "print(fruits_train[0][0].shape)\n",
        "\n",
        "#image label\n",
        "print(f\"{fruits_train[0][1]} => {fruits_dataset.label_names[fruits_train[0][1]]}\")\n",
        "\n",
        "#total labels & label names\n",
        "print(f\"{len(fruits_dataset.label_names)}, label names={fruits_dataset.label_names}\")"
      ],
      "metadata": {
        "id": "Gg9izAjFMeNU",
        "colab": {
          "base_uri": "https://localhost:8080/"
        },
        "outputId": "f906ccb8-69c5-4aa4-c811-0bdf8900db43"
      },
      "execution_count": 94,
      "outputs": [
        {
          "output_type": "stream",
          "name": "stdout",
          "text": [
            "torch.Size([3, 64, 64])\n",
            "20 => Passion Fruit\n",
            "33, label names=['Apple Braeburn', 'Apple Granny Smith', 'Apricot', 'Avocado', 'Banana', 'Blueberry', 'Cactus fruit', 'Cantaloupe', 'Cherry', 'Clementine', 'Corn', 'Cucumber Ripe', 'Grape Blue', 'Kiwi', 'Lemon', 'Limes', 'Mango', 'Onion White', 'Orange', 'Papaya', 'Passion Fruit', 'Peach', 'Pear', 'Pepper Green', 'Pepper Red', 'Pineapple', 'Plum', 'Pomegranate', 'Potato Red', 'Raspberry', 'Strawberry', 'Tomato', 'Watermelon']\n"
          ]
        }
      ]
    },
    {
      "cell_type": "code",
      "source": [
        "#@title Display image from training set\n",
        "def imshow(img):\n",
        "    img = img / 2 + 0.5     # unnormalize\n",
        "    npimg = img.numpy()\n",
        "    plt.imshow(np.transpose(npimg, (1, 2, 0)))\n",
        "    plt.show()\n",
        "\n",
        "imshow(fruits_train[0][0])"
      ],
      "metadata": {
        "colab": {
          "base_uri": "https://localhost:8080/",
          "height": 268
        },
        "cellView": "form",
        "id": "lqCNM6TG3Ryy",
        "outputId": "2c4fb6cd-f1be-4da0-f835-a100bdd997cb"
      },
      "execution_count": 95,
      "outputs": [
        {
          "output_type": "display_data",
          "data": {
            "text/plain": [
              "<Figure size 432x288 with 1 Axes>"
            ],
            "image/png": "[encoded data removed]"
          },
          "metadata": {
            "needs_background": "light"
          }
        }
      ]
    },
    {
      "cell_type": "markdown",
      "source": [
        "# **Section 3**\n",
        "## CNN Model"
      ],
      "metadata": {
        "id": "FZD92cC-R1sa"
      }
    },
    {
      "cell_type": "code",
      "source": [
        "#Fruit Model\n",
        "import torch.nn.functional as F\n",
        "\n",
        "#[3C x 64 x 64] -> conv2d[32 x 64 x 64] -> relu -> maxpool2d[32 x 32 x 32] -> conv2d[8 x 32 x 32] -> relu -> maxpool2d[8 x 16 x 16]\n",
        "#flatten[8*16*16] -> lin[128] -> relu -> lin[84] -> relu -> lin[33]\n",
        "\n",
        "#input is 3C x 64 x 64\n",
        "#output is 33, based on total img labels\n",
        "\n",
        "class FruitNet(nn.Module):\n",
        "\n",
        "  def __init__(self):\n",
        "    super().__init__()\n",
        "    self.conv1 = nn.Conv2d(3, 32, kernel_size=3, padding=1)\n",
        "    self.conv2 = nn.Conv2d(32, 8, kernel_size=3, padding=1)\n",
        "    self.fc1 = nn.Linear(8*16*16, 128)\n",
        "    self.fc2 = nn.Linear(128, 84)\n",
        "    self.fc3 = nn.Linear(84, 33)\n",
        "\n",
        "  def forward(self, x):\n",
        "    out = self.conv1(x)\n",
        "    out = F.max_pool2d(torch.relu(out), 2)\n",
        "\n",
        "    out = self.conv2(out)\n",
        "    out = F.max_pool2d(torch.relu(out), 2)\n",
        "    \n",
        "    out = out.view(-1, 8 * 16 * 16)\n",
        "    out = torch.relu(self.fc1(out))\n",
        "    out = torch.relu(self.fc2(out))\n",
        "    out = self.fc3(out)\n",
        "\n",
        "    return out"
      ],
      "metadata": {
        "id": "7O0Tzs8TRpQJ"
      },
      "execution_count": 96,
      "outputs": []
    },
    {
      "cell_type": "code",
      "source": [
        "model = FruitNet()\n",
        "\n",
        "model"
      ],
      "metadata": {
        "colab": {
          "base_uri": "https://localhost:8080/"
        },
        "id": "-1Zv-n5zUJwR",
        "outputId": "b0f7dbe3-8f25-46d5-9840-fb084fe51f2d"
      },
      "execution_count": 97,
      "outputs": [
        {
          "output_type": "execute_result",
          "data": {
            "text/plain": [
              "FruitNet(\n",
              "  (conv1): Conv2d(3, 32, kernel_size=(3, 3), stride=(1, 1), padding=(1, 1))\n",
              "  (conv2): Conv2d(32, 8, kernel_size=(3, 3), stride=(1, 1), padding=(1, 1))\n",
              "  (fc1): Linear(in_features=2048, out_features=128, bias=True)\n",
              "  (fc2): Linear(in_features=128, out_features=84, bias=True)\n",
              "  (fc3): Linear(in_features=84, out_features=33, bias=True)\n",
              ")"
            ]
          },
          "metadata": {},
          "execution_count": 97
        }
      ]
    },
    {
      "cell_type": "code",
      "source": [
        "#test image passing\n",
        "model(fruits_train[0][0])"
      ],
      "metadata": {
        "colab": {
          "base_uri": "https://localhost:8080/"
        },
        "id": "LVALXMXTXITw",
        "outputId": "65f57583-9681-4d77-c962-2416f181d1f4"
      },
      "execution_count": 98,
      "outputs": [
        {
          "output_type": "execute_result",
          "data": {
            "text/plain": [
              "tensor([[ 2.9896e-02, -5.3502e-02, -1.0103e-04, -2.2473e-02, -1.6843e-02,\n",
              "         -5.8476e-02,  6.5511e-02, -3.1585e-02,  4.6398e-02,  4.2792e-02,\n",
              "          1.2780e-01,  5.9386e-02,  5.1525e-03, -3.7406e-03,  6.5225e-02,\n",
              "          8.6793e-02,  8.4728e-02,  1.0932e-01, -3.0944e-02,  1.0097e-01,\n",
              "          9.4690e-03,  2.8432e-02, -4.0886e-03,  9.1011e-02,  3.4060e-02,\n",
              "         -6.3361e-03, -1.0830e-02, -1.2589e-01, -5.4600e-02,  6.2087e-02,\n",
              "          1.2588e-02,  6.9596e-02, -8.6973e-02]], grad_fn=<AddmmBackward0>)"
            ]
          },
          "metadata": {},
          "execution_count": 98
        }
      ]
    },
    {
      "cell_type": "markdown",
      "source": [
        "# **Section 4**\n",
        "## Training"
      ],
      "metadata": {
        "id": "0mtY5rq6R77M"
      }
    },
    {
      "cell_type": "code",
      "source": [
        "#@title Change Runtime to GPU (must enable via runtime tab)\n",
        "\n",
        "#change runtime type to GPU\n",
        "device = (torch.device('cuda') if torch.cuda.is_available() else torch.device('cpu'))\n",
        "print(f\"Training on device {device}.\")"
      ],
      "metadata": {
        "colab": {
          "base_uri": "https://localhost:8080/"
        },
        "id": "TlHbkXL2Xocd",
        "outputId": "bba70e26-8680-4a9e-ef94-6d8a0f57dd27",
        "cellView": "form"
      },
      "execution_count": 99,
      "outputs": [
        {
          "output_type": "stream",
          "name": "stdout",
          "text": [
            "Training on device cuda.\n"
          ]
        }
      ]
    },
    {
      "cell_type": "code",
      "source": [
        "#@title Define Training Loop\n",
        "def training_loop(n_epochs, optimizer, model, loss_fn, train_loader):\n",
        "  for epoch in range(1, n_epochs + 1):\n",
        "    loss_train = 0.0\n",
        "    for imgs, labels in train_loader:\n",
        "      imgs = imgs.to(device=device) #send to current device\n",
        "      labels = labels.to(device=device)\n",
        "      outputs = model(imgs)\n",
        "      loss = loss_fn(outputs, labels)\n",
        "      optimizer.zero_grad()\n",
        "      loss.backward()\n",
        "      optimizer.step()\n",
        "      loss_train += loss.item()\n",
        "    if epoch == 1 or epoch % 10 == 0:\n",
        "      print('{} Epoch {}, Training loss {}'.format(datetime.datetime.now(), epoch, loss_train / len(train_loader)))"
      ],
      "metadata": {
        "id": "LybmsrzNXyae",
        "cellView": "form"
      },
      "execution_count": 100,
      "outputs": []
    },
    {
      "cell_type": "code",
      "source": [
        "#@title Run model\n",
        "train_loader = torch.utils.data.DataLoader(fruits_train, batch_size=64,shuffle=True)\n",
        "\n",
        "learning_rate = 1e-2 #@param {type:\"number\"}\n",
        "epochs = 50 #@param {type:\"number\"}\n",
        "\n",
        "\n",
        "\n",
        "model = FruitNet().to(device=device)\n",
        "optimizer = optim.Adam(model.parameters(), lr=learning_rate) #\n",
        "loss_fn = nn.CrossEntropyLoss() #\n",
        "training_loop(\n",
        "  n_epochs = epochs,\n",
        "  optimizer = optimizer,\n",
        "  model = model,\n",
        "  loss_fn = loss_fn,\n",
        "  train_loader = train_loader,\n",
        ")"
      ],
      "metadata": {
        "colab": {
          "base_uri": "https://localhost:8080/"
        },
        "id": "Upv9LYstbxtb",
        "outputId": "97874f16-d4c9-4df7-ff87-99f862958444",
        "cellView": "form"
      },
      "execution_count": 101,
      "outputs": [
        {
          "output_type": "stream",
          "name": "stdout",
          "text": [
            "2022-06-17 14:22:57.643771 Epoch 1, Training loss 1.0553635158245032\n",
            "2022-06-17 14:25:03.852633 Epoch 10, Training loss 0.03821947731745387\n",
            "2022-06-17 14:27:23.504076 Epoch 20, Training loss 0.12196740134026772\n",
            "2022-06-17 14:29:44.548956 Epoch 30, Training loss 0.07338693948343362\n",
            "2022-06-17 14:32:04.847460 Epoch 40, Training loss 0.03995178626355477\n",
            "2022-06-17 14:34:27.575875 Epoch 50, Training loss 0.13877878556363407\n"
          ]
        }
      ]
    },
    {
      "cell_type": "markdown",
      "source": [
        "# **Section 5**\n",
        "## Results"
      ],
      "metadata": {
        "id": "XecKXtIvSG-a"
      }
    },
    {
      "cell_type": "code",
      "source": [
        "#@title Test Accuracy of Train/Validation set\n",
        "train_loader = torch.utils.data.DataLoader(fruits_train, batch_size=64,shuffle=False)\n",
        "val_loader = torch.utils.data.DataLoader(fruits_test, batch_size=64,shuffle=False)\n",
        "def validate(model, train_loader, val_loader):\n",
        "  for name, loader in [(\"train\", train_loader), (\"val\", val_loader)]:\n",
        "    correct = 0\n",
        "    total = 0\n",
        "    with torch.no_grad():\n",
        "      for imgs, labels in loader:\n",
        "        imgs = imgs.to(device=device) #send to current device\n",
        "        labels = labels.to(device=device) #\n",
        "        outputs = model(imgs)\n",
        "        _, predicted = torch.max(outputs, dim=1)\n",
        "        total += labels.shape[0]\n",
        "        correct += int((predicted == labels).sum())\n",
        "    print(\"Accuracy {}: {:.2f}\".format(name , correct / total))\n",
        "validate(model, train_loader, val_loader)"
      ],
      "metadata": {
        "colab": {
          "base_uri": "https://localhost:8080/"
        },
        "cellView": "form",
        "id": "LqCj4VOtz_Tj",
        "outputId": "4aa28aed-ca21-4e25-cd43-378fbfad9a70"
      },
      "execution_count": 103,
      "outputs": [
        {
          "output_type": "stream",
          "name": "stdout",
          "text": [
            "Accuracy train: 0.96\n",
            "Accuracy val: 0.95\n"
          ]
        }
      ]
    },
    {
      "cell_type": "code",
      "source": [
        "#@title Save model to Google Drive\n",
        "#connect to colab book\n",
        "from google.colab import drive\n",
        "drive.mount('/content/drive')"
      ],
      "metadata": {
        "colab": {
          "base_uri": "https://localhost:8080/"
        },
        "cellView": "form",
        "id": "pk4M5GI6GPkJ",
        "outputId": "8cca3404-e5b3-4886-f5bc-2f675721fa97"
      },
      "execution_count": 110,
      "outputs": [
        {
          "output_type": "stream",
          "name": "stdout",
          "text": [
            "Drive already mounted at /content/drive; to attempt to forcibly remount, call drive.mount(\"/content/drive\", force_remount=True).\n"
          ]
        }
      ]
    },
    {
      "cell_type": "code",
      "source": [
        "#@title Save Model to filepath\n",
        "data_path = \"drive/MyDrive/PyTorch/models/\" #@param ['drive/MyDrive/PyTorch/models/'] {allow-input: true}\n",
        "#save model to filepath\n",
        "torch.save(model.state_dict(), data_path + 'fruits.pt')"
      ],
      "metadata": {
        "cellView": "form",
        "id": "7rUpocpiGy4y"
      },
      "execution_count": 153,
      "outputs": []
    },
    {
      "cell_type": "code",
      "source": [
        "loaded_model = FruitNet().to(device=device)\n",
        "loaded_model.load_state_dict(torch.load(data_path + 'fruits.pt', map_location=device))"
      ],
      "metadata": {
        "colab": {
          "base_uri": "https://localhost:8080/"
        },
        "id": "d-2j1AnZHJzR",
        "outputId": "398a7b92-5c65-4585-ad4c-cdd13e81ba13"
      },
      "execution_count": 112,
      "outputs": [
        {
          "output_type": "execute_result",
          "data": {
            "text/plain": [
              "<All keys matched successfully>"
            ]
          },
          "metadata": {},
          "execution_count": 112
        }
      ]
    },
    {
      "cell_type": "code",
      "source": [
        "#validate again to make sure model saved correctly\n",
        "validate(loaded_model, train_loader, val_loader)"
      ],
      "metadata": {
        "colab": {
          "base_uri": "https://localhost:8080/"
        },
        "id": "eQqWp86EHRPI",
        "outputId": "6daaf4fa-1a73-4b9f-dd05-5e0128fa30c6"
      },
      "execution_count": 114,
      "outputs": [
        {
          "output_type": "stream",
          "name": "stdout",
          "text": [
            "Accuracy train: 0.96\n",
            "Accuracy val: 0.95\n"
          ]
        }
      ]
    },
    {
      "cell_type": "markdown",
      "source": [
        "# **Section 6**\n",
        "## Testing on New Data"
      ],
      "metadata": {
        "id": "CcF95AC6SJwU"
      }
    },
    {
      "cell_type": "code",
      "source": [
        "#@title Display Test Image\n",
        "test_index =  999#@param {type:\"integer\"}\n",
        "\n",
        "img = get_test_fruit(test_index)\n",
        "\n",
        "io.imshow(img)"
      ],
      "metadata": {
        "colab": {
          "base_uri": "https://localhost:8080/",
          "height": 314
        },
        "cellView": "form",
        "id": "2swAQcL9Jb_f",
        "outputId": "660b0457-8948-467e-a16a-abcb0313fda8"
      },
      "execution_count": 149,
      "outputs": [
        {
          "output_type": "execute_result",
          "data": {
            "text/plain": [
              "<matplotlib.image.AxesImage at 0x7fca3a794c10>"
            ]
          },
          "metadata": {},
          "execution_count": 149
        },
        {
          "output_type": "display_data",
          "data": {
            "text/plain": [
              "<Figure size 432x288 with 1 Axes>"
            ],
            "image/png": "[encoded data removed]"
          },
          "metadata": {
            "needs_background": "light"
          }
        }
      ]
    },
    {
      "cell_type": "code",
      "source": [
        "#@title Transform Test Image\n",
        "\n",
        "#transform test image\n",
        "transformations = transforms.Compose([\n",
        "                                      transforms.ToTensor(),\n",
        "                                      transforms.Resize((64, 64)),\n",
        "                                      transforms.Normalize((0.5, 0.5, 0.5), (0.5, 0.5, 0.5))\n",
        "                                      ])\n",
        "\n",
        "test_img = transformations(img)"
      ],
      "metadata": {
        "cellView": "form",
        "id": "f4jTQg2KKKj2"
      },
      "execution_count": 150,
      "outputs": []
    },
    {
      "cell_type": "code",
      "source": [
        "#@title Predict Fruit!\n",
        "#do prediction\n",
        "outputs = model(test_img.to(device=device))\n",
        "_, predicted = torch.max(outputs, dim=1)\n",
        "\n",
        "fruits_dataset.label_names[predicted.item()]"
      ],
      "metadata": {
        "colab": {
          "base_uri": "https://localhost:8080/",
          "height": 35
        },
        "cellView": "form",
        "id": "OYop-aRWKrrV",
        "outputId": "932ec35e-e53f-4eb8-e333-dcce507258cd"
      },
      "execution_count": 151,
      "outputs": [
        {
          "output_type": "execute_result",
          "data": {
            "text/plain": [
              "'Blueberry'"
            ],
            "application/vnd.google.colaboratory.intrinsic+json": {
              "type": "string"
            }
          },
          "metadata": {},
          "execution_count": 151
        }
      ]
    },
    {
      "cell_type": "markdown",
      "source": [
        "# **Section 7**\n",
        "## Conclusion\n",
        "\n",
        "The model is able to succesfully label fruits with high accuracy ~.95, although the validation set has high accuracy, there might be a possibility of overfitting due to the drastic drop in loss between Epoch 1 and 10. However, it is still able to predict completely new data (section 6) well, so it is likely not significant.\n",
        "\n",
        "Considering the dataset only includes images of fruit in a white background, it will be necessary to preprocess input to get rid of any background that could possibly reduce its ability to predict. Alternatively, this can be solved by adding noise, or variety to the layout of the images.\n",
        "\n",
        "Another note is that most of the fruits are at one stage of growth, as seen in the images of mangos, they are almost all green, including different ages of fruit can help improve the accuracy of new data tested."
      ],
      "metadata": {
        "id": "jLUGu1IvSgQK"
      }
    }
  ]
}